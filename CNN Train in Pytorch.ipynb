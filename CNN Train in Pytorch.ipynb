{
 "cells": [
  {
   "cell_type": "code",
   "execution_count": 1,
   "metadata": {},
   "outputs": [],
   "source": [
    "import pandas as pd\n",
    "import numpy as np\n",
    "import matplotlib.pyplot as plt\n",
    "import seaborn as sns\n",
    "sns.set()\n",
    "\n",
    "import torch\n",
    "import torch.nn as nn\n",
    "import torch.nn.functional as F\n",
    "from torch.utils.data import DataLoader, Dataset\n",
    "\n",
    "import torchvision\n",
    "import torchvision.transforms as transforms\n",
    "\n",
    "from PIL import Image\n",
    "import os"
   ]
  },
  {
   "cell_type": "code",
   "execution_count": 2,
   "metadata": {},
   "outputs": [
    {
     "data": {
      "text/html": [
       "<div>\n",
       "<style scoped>\n",
       "    .dataframe tbody tr th:only-of-type {\n",
       "        vertical-align: middle;\n",
       "    }\n",
       "\n",
       "    .dataframe tbody tr th {\n",
       "        vertical-align: top;\n",
       "    }\n",
       "\n",
       "    .dataframe thead th {\n",
       "        text-align: right;\n",
       "    }\n",
       "</style>\n",
       "<table border=\"1\" class=\"dataframe\">\n",
       "  <thead>\n",
       "    <tr style=\"text-align: right;\">\n",
       "      <th></th>\n",
       "      <th>healthy</th>\n",
       "      <th>multiple_diseases</th>\n",
       "      <th>rust</th>\n",
       "      <th>scab</th>\n",
       "    </tr>\n",
       "    <tr>\n",
       "      <th>image_id</th>\n",
       "      <th></th>\n",
       "      <th></th>\n",
       "      <th></th>\n",
       "      <th></th>\n",
       "    </tr>\n",
       "  </thead>\n",
       "  <tbody>\n",
       "    <tr>\n",
       "      <th>Train_0</th>\n",
       "      <td>0</td>\n",
       "      <td>0</td>\n",
       "      <td>0</td>\n",
       "      <td>1</td>\n",
       "    </tr>\n",
       "    <tr>\n",
       "      <th>Train_1</th>\n",
       "      <td>0</td>\n",
       "      <td>1</td>\n",
       "      <td>0</td>\n",
       "      <td>0</td>\n",
       "    </tr>\n",
       "    <tr>\n",
       "      <th>Train_2</th>\n",
       "      <td>1</td>\n",
       "      <td>0</td>\n",
       "      <td>0</td>\n",
       "      <td>0</td>\n",
       "    </tr>\n",
       "    <tr>\n",
       "      <th>Train_3</th>\n",
       "      <td>0</td>\n",
       "      <td>0</td>\n",
       "      <td>1</td>\n",
       "      <td>0</td>\n",
       "    </tr>\n",
       "    <tr>\n",
       "      <th>Train_4</th>\n",
       "      <td>1</td>\n",
       "      <td>0</td>\n",
       "      <td>0</td>\n",
       "      <td>0</td>\n",
       "    </tr>\n",
       "    <tr>\n",
       "      <th>...</th>\n",
       "      <td>...</td>\n",
       "      <td>...</td>\n",
       "      <td>...</td>\n",
       "      <td>...</td>\n",
       "    </tr>\n",
       "    <tr>\n",
       "      <th>Train_1816</th>\n",
       "      <td>0</td>\n",
       "      <td>0</td>\n",
       "      <td>0</td>\n",
       "      <td>1</td>\n",
       "    </tr>\n",
       "    <tr>\n",
       "      <th>Train_1817</th>\n",
       "      <td>1</td>\n",
       "      <td>0</td>\n",
       "      <td>0</td>\n",
       "      <td>0</td>\n",
       "    </tr>\n",
       "    <tr>\n",
       "      <th>Train_1818</th>\n",
       "      <td>1</td>\n",
       "      <td>0</td>\n",
       "      <td>0</td>\n",
       "      <td>0</td>\n",
       "    </tr>\n",
       "    <tr>\n",
       "      <th>Train_1819</th>\n",
       "      <td>0</td>\n",
       "      <td>0</td>\n",
       "      <td>1</td>\n",
       "      <td>0</td>\n",
       "    </tr>\n",
       "    <tr>\n",
       "      <th>Train_1820</th>\n",
       "      <td>0</td>\n",
       "      <td>0</td>\n",
       "      <td>0</td>\n",
       "      <td>1</td>\n",
       "    </tr>\n",
       "  </tbody>\n",
       "</table>\n",
       "<p>1821 rows × 4 columns</p>\n",
       "</div>"
      ],
      "text/plain": [
       "            healthy  multiple_diseases  rust  scab\n",
       "image_id                                          \n",
       "Train_0           0                  0     0     1\n",
       "Train_1           0                  1     0     0\n",
       "Train_2           1                  0     0     0\n",
       "Train_3           0                  0     1     0\n",
       "Train_4           1                  0     0     0\n",
       "...             ...                ...   ...   ...\n",
       "Train_1816        0                  0     0     1\n",
       "Train_1817        1                  0     0     0\n",
       "Train_1818        1                  0     0     0\n",
       "Train_1819        0                  0     1     0\n",
       "Train_1820        0                  0     0     1\n",
       "\n",
       "[1821 rows x 4 columns]"
      ]
     },
     "execution_count": 2,
     "metadata": {},
     "output_type": "execute_result"
    }
   ],
   "source": [
    "test_csv = pd.read_csv('test.csv', index_col='image_id')\n",
    "\n",
    "train_csv = pd.read_csv('train.csv', index_col='image_id')\n",
    "train_csv"
   ]
  },
  {
   "cell_type": "markdown",
   "metadata": {},
   "source": [
    "Vamos conta o nome individual de classes para usarmos como peso para entropia cruzada posteriormente."
   ]
  },
  {
   "cell_type": "markdown",
   "metadata": {},
   "source": [
    "Estratégias de melhoria de vários pontos que possam ser aplicadas no futuro:\n",
    "- Data Augmentation: A classe de multiple_diseases, por exemplo, está em uma quantidade bem reduzida. Podemos fazer um augmentation dela.\n",
    "- Peso na Loss Function: Para as features que aparecem menos podemos associar um peso maior se for importante a acurácia por classe.\n",
    "- Aumento gradativo do tamanho."
   ]
  },
  {
   "cell_type": "markdown",
   "metadata": {},
   "source": [
    "---"
   ]
  },
  {
   "cell_type": "markdown",
   "metadata": {},
   "source": [
    "As imagens propostas na pasta original estão em uma resolução extremamente elevada. O problema nesse caso é que o treinamento pode demorar muito mais do que o necessário só pela necessidade de se abrir arquivos tão grande. As redes normalmente não consomem imagens maiores que 384x384 pixels. Torna-se mais vantajoso reduzir esse tamanho antes."
   ]
  },
  {
   "cell_type": "markdown",
   "metadata": {},
   "source": [
    "### Solução: Carregar tudo em memória (dataset pequeno)\n",
    "A solução 1 é a mais vantajosa caso tenha a quantidade de RAM necessária parra carregar o dataset inteiro. Como é o meu caso, vamos definir o nosso Dataset personalizado para o caso. Essa classe herda a classe `Dataset` do Pytorch, que basicamente só precisa implementar `__len__()` e `__getitem__()` para seu correto funcionamento."
   ]
  },
  {
   "cell_type": "code",
   "execution_count": 8,
   "metadata": {},
   "outputs": [],
   "source": [
    "class ImageFolderToMemory(Dataset):\n",
    "\n",
    "    def __init__(self, csv_file, root_dir, size, transform=None, save_to_disk=False):\n",
    "        \n",
    "        # Load entire dataset from specified location\n",
    "        self.get_pil = transforms.ToPILImage() # Define uma transformação para obter a imagem em PIL\n",
    "        self.get_tensor = transforms.ToTensor() # Define uma transformação para obter a imagem em um Tensor\n",
    "        \n",
    "        if os.path.exists(f\"./tensor_data_{size}px.pt\"):\n",
    "            self.tensor_data = torch.load(f\"./tensor_datasets/tensor_data_{size}px.pt\")\n",
    "            self.label_data = torch.load(f\"./tensor_datasets/label_data_{size}px.pt\")\n",
    "        else:\n",
    "            self.train_csv = pd.read_csv(csv_file, index_col='image_id')\n",
    "            self.root_dir = root_dir\n",
    "            ext = '.jpg'\n",
    "            self.tensor_data = torch.Tensor([])\n",
    "            self.label_data = torch.Tensor([])\n",
    "            for row, col in self.train_csv.iterrows():\n",
    "                img = Image.open(root_dir + row + ext).resize(size=(size,size))\n",
    "                img_tensor = self.get_tensor(img)\n",
    "                self.tensor_data = torch.cat((self.tensor_data, img_tensor.unsqueeze(0)), dim=0)\n",
    "                label_tensor = torch.Tensor(list(col)).argmax().float()\n",
    "                self.label_data = torch.cat((self.label_data, label_tensor.unsqueeze(0)), dim=0)\n",
    "\n",
    "            if save_to_disk:\n",
    "                torch.save(self.tensor_data, f\"./tensor_datasets/tensor_data_{size}px.pt\")\n",
    "                torch.save(self.tensor_data, f\"./tensor_datasets/label_data_{size}px.pt\")\n",
    "                \n",
    "        self.transform = transform\n",
    "        \n",
    "    def __len__(self):\n",
    "        return len(self.tensor_data)\n",
    "\n",
    "    def __getitem__(self, idx):\n",
    "        if torch.is_tensor(idx):\n",
    "            idx = idx.tolist()\n",
    "\n",
    "        if self.transform:\n",
    "            sample = (self.apply_tensor_transform(self.tensor_data[idx]), self.label_data[idx])\n",
    "        else:\n",
    "            sample = (self.tensor_data[idx], self.label_data[idx])\n",
    "            \n",
    "        return sample\n",
    "    \n",
    "    def apply_tensor_transform(self, tensor):\n",
    "        img = self.get_pil(tensor)\n",
    "        \n",
    "        return self.transform(img)"
   ]
  },
  {
   "cell_type": "code",
   "execution_count": 10,
   "metadata": {},
   "outputs": [],
   "source": [
    "class ImageFolderToMemoryTest(Dataset):\n",
    "\n",
    "    def __init__(self, csv_file, root_dir, size, transform=None, save_to_disk=False):\n",
    "        \n",
    "        self.get_pil = transforms.ToPILImage()\n",
    "        self.get_tensor = transforms.ToTensor()\n",
    "        \n",
    "        if os.path.exists(f\"./tensor_data_test_{size}px.pt\"):\n",
    "            self.tensor_data = torch.load(f\"./tensor_datasets/tensor_data_test_{size}px.pt\")\n",
    "            self.label_data = torch.load(f\"./tensor_datasets/label_data_test_{size}px.pt\")\n",
    "        else:\n",
    "            self.test_csv = pd.read_csv(csv_file, index_col='image_id')\n",
    "            self.root_dir = root_dir\n",
    "            ext = '.jpg'\n",
    "            self.tensor_data = torch.Tensor([])\n",
    "            for row, col in self.test_csv.iterrows():\n",
    "                img = Image.open(root_dir + row + ext).resize(size=(size,size))\n",
    "                img_tensor = self.get_tensor(img)\n",
    "                self.tensor_data = torch.cat((self.tensor_data, img_tensor.unsqueeze(0)), dim=0)\n",
    "        \n",
    "        if save_to_disk:\n",
    "            torch.save(self.tensor_data, f\"./tensor_datasets/tensor_data_test_{size}px.pt\")\n",
    "            torch.save(self.tensor_data, f\"./tensor_datasets/label_data_test_{size}px.pt\")\n",
    "        \n",
    "        self.transform = transform\n",
    "        \n",
    "    def __len__(self):\n",
    "        return len(self.tensor_data)\n",
    "\n",
    "    def __getitem__(self, idx):\n",
    "        if torch.is_tensor(idx):\n",
    "            idx = idx.tolist()\n",
    "        \n",
    "        if self.transform:\n",
    "            return self.transform(self.tensor_data[idx])\n",
    "        else:\n",
    "            return self.tensor_data[idx]"
   ]
  },
  {
   "cell_type": "markdown",
   "metadata": {},
   "source": [
    "Ótimo! Vamos verificar a imagem e corretamente sua label, assim como o tamanho que o tensor principal de imagens está ocupando em memória."
   ]
  },
  {
   "cell_type": "markdown",
   "metadata": {},
   "source": [
    "# Create Torch Dataset"
   ]
  },
  {
   "cell_type": "markdown",
   "metadata": {},
   "source": [
    "Precisamos agora criar nossos datasets e dataloaders para o treino, a validação e o teste utilizados no Pytorch."
   ]
  },
  {
   "cell_type": "markdown",
   "metadata": {},
   "source": [
    "### Separação / Treino / Validação"
   ]
  },
  {
   "cell_type": "code",
   "execution_count": 11,
   "metadata": {},
   "outputs": [],
   "source": [
    "def get_loaders(train_split, batch_size):\n",
    "    \n",
    "    for_train = int(train_split*len(plant_dataset))\n",
    "    train_set, val_set = torch.utils.data.random_split(plant_dataset, lengths=[for_train, len(plant_dataset) - for_train])\n",
    "    \n",
    "    # Treinamento\n",
    "    train_dataloader = DataLoader(train_set, batch_size=batch_size, shuffle=True, pin_memory=True)\n",
    "\n",
    "    # Validação\n",
    "    valid_dataloader = DataLoader(val_set, batch_size=batch_size, shuffle=False, pin_memory=True)\n",
    "    \n",
    "    return train_dataloader, valid_dataloader"
   ]
  },
  {
   "cell_type": "markdown",
   "metadata": {},
   "source": [
    "### Teste"
   ]
  },
  {
   "cell_type": "code",
   "execution_count": 12,
   "metadata": {},
   "outputs": [],
   "source": [
    "def get_test_loader(test_dataset, batch_size):\n",
    "\n",
    "    # Treinamento\n",
    "    test_dataloader = DataLoader(test_dataset, batch_size=batch_size, shuffle=False, pin_memory=True)\n",
    "    \n",
    "    return test_dataloader"
   ]
  },
  {
   "cell_type": "markdown",
   "metadata": {},
   "source": [
    "# Loop de treinamento e checagem"
   ]
  },
  {
   "cell_type": "markdown",
   "metadata": {},
   "source": [
    "Definimos então os loops de treinamento e checagem."
   ]
  },
  {
   "cell_type": "code",
   "execution_count": 13,
   "metadata": {},
   "outputs": [],
   "source": [
    "def get_confusion_matrix(preds, actual, size=8):\n",
    "    plant_dict = dict(enumerate(train_csv.columns))\n",
    "    plt.figure(figsize=(size,size))\n",
    "    a = pd.DataFrame({\"Predictions\": preds.astype('int'), \"Correct\": actual.astype('int')}).replace(plant_dict)\n",
    "    cross_tab = pd.crosstab(a['Predictions'], a['Correct'])\n",
    "    ax = sns.heatmap(cross_tab, annot=True, fmt='d')\n",
    "    ax.xaxis.tick_top()\n",
    "    ax.xaxis.set_label_position('top') \n",
    "    plt.xticks(fontsize=14, rotation=0)\n",
    "    plt.yticks(fontsize=14, rotation=0)\n",
    "    #b, t = plt.ylim()\n",
    "    #b += 0.5\n",
    "    #t -= 0.5\n",
    "    #plt.ylim(b, t)\n",
    "    plt.xlabel(\"Correct Labels\", size=20, labelpad=30)\n",
    "    plt.ylabel(\"Predictions\", size=20, labelpad=30)\n",
    "    plt.show()\n",
    "    print('Model Accuracy: {:.3f}%'.format((preds == actual).sum() / len(preds) * 100))"
   ]
  },
  {
   "cell_type": "code",
   "execution_count": 14,
   "metadata": {},
   "outputs": [],
   "source": [
    "def get_predictions(model, device):\n",
    "    model = model.to(device)\n",
    "\n",
    "    predictions = np.array([])\n",
    "    actual = np.array([])\n",
    "    with torch.no_grad():\n",
    "        model.eval()\n",
    "        for features, labels in valid_dataloader:\n",
    "            features = features.to(device)\n",
    "            labels = labels.long().to(device)\n",
    "\n",
    "            out = model(features)\n",
    "            predictions = np.concatenate((predictions, out.argmax(dim=1).cpu()), axis=0)\n",
    "            actual = np.concatenate((actual, labels.cpu()), axis=0)\n",
    "\n",
    "    return predictions, actual"
   ]
  },
  {
   "cell_type": "code",
   "execution_count": 15,
   "metadata": {},
   "outputs": [],
   "source": [
    "def check_acuracy(model, device):\n",
    "    model = model.to(device)\n",
    "    \n",
    "    correct = 0\n",
    "    total = 0\n",
    "    with torch.no_grad():\n",
    "        model.eval()\n",
    "        for features, labels in valid_dataloader:\n",
    "            features = features.to(device)\n",
    "            labels = labels.long().to(device)\n",
    "\n",
    "            out = model(features)\n",
    "            truth_tensor = out.argmax(dim=1) == labels\n",
    "            correct += truth_tensor.sum().item()\n",
    "            total += len(truth_tensor)\n",
    "\n",
    "    accuracy = correct / total\n",
    "    return accuracy, correct, total - correct"
   ]
  },
  {
   "cell_type": "code",
   "execution_count": 16,
   "metadata": {},
   "outputs": [],
   "source": [
    "def training_loop(n_epochs, model, optimizer, loss_fn, device, lr_scheduler=None, print_every=1, eval_loss_limit_size=-1, verbose=1):\n",
    "    loss_fn = loss_fn.to(device)\n",
    "    model = model.to(device)\n",
    "    \n",
    "    best_state_dict = model.state_dict()\n",
    "    best_epoch = 1\n",
    "    counter = 0\n",
    "    previous_val_loss = 0\n",
    "    train_loss_list = []\n",
    "    val_loss_list = []\n",
    "    print(\"Beginning Epoch 1...\")\n",
    "    for epoch in range(1, n_epochs + 1):\n",
    "        \n",
    "        model.train()\n",
    "        train_loss = 0\n",
    "        for features, labels in train_dataloader:\n",
    "            features = features.to(device)\n",
    "            labels = labels.long().to(device)\n",
    "            \n",
    "            out = model(features)\n",
    "            loss = loss_fn(out, labels)\n",
    "            train_loss += loss.item()\n",
    "            optimizer.zero_grad()\n",
    "            loss.backward()\n",
    "            optimizer.step()\n",
    "            if lr_scheduler:\n",
    "                lr_scheduler.step()\n",
    "        \n",
    "        model.eval()\n",
    "        val_loss = 0\n",
    "        with torch.no_grad():\n",
    "            for features, labels in valid_dataloader:\n",
    "                features = features.to(device)\n",
    "                labels = labels.long().to(device)\n",
    "\n",
    "                out = model(features)\n",
    "                val_loss += loss_fn(out, labels).item()\n",
    "            \n",
    "            if epoch == 1:\n",
    "                best_val_loss_ttm = val_loss\n",
    "            \n",
    "        if (epoch % print_every == 0 or epoch == 1) and verbose == 1:\n",
    "            acc, correct, incorrect = check_acuracy(model, 'cuda:0')\n",
    "            print(\"Epoch {}/{} : Train Loss {:.5f} | Val Loss {:.5f} | Accuracy: {:.4f}\".format(epoch, n_epochs, train_loss, val_loss, acc))\n",
    "            #if acc > 0.82:\n",
    "            #    print(\"DETECTADO SUCESSO APARENTE... FINALIZANDO\")\n",
    "            #    break\n",
    "        \n",
    "        if val_loss < best_val_loss_ttm:\n",
    "            best_val_loss_ttm = val_loss\n",
    "            best_epoch = epoch\n",
    "            best_state_dict = model.state_dict()\n",
    "            counter = 0 \n",
    "        else:\n",
    "            counter += 1\n",
    "            if counter == eval_loss_limit_size and eval_loss_limit_size!=-1:\n",
    "                print(\"Loss de validação não caiu por {} épocas consecutivas. Abortando na época {}.\".format(eval_loss_limit_size, epoch))\n",
    "                break\n",
    "                \n",
    "        previous_val_loss = val_loss\n",
    "        \n",
    "        train_loss_list.append(train_loss)\n",
    "        val_loss_list.append(val_loss)\n",
    "    \n",
    "    model.load_state_dict(best_state_dict)\n",
    "    model.cpu()\n",
    "    loss_fn.cpu()\n",
    "    print(\"----- FINALIZADO -----\\nMelhor época: {}\".format(best_epoch))\n",
    "    figs, axes = plt.subplots(1, 2, figsize=(19,7))\n",
    "    sns.lineplot(x=np.arange(1,len(train_loss_list)+1), y=train_loss_list, label='Train', ax=axes[0])\n",
    "    sns.lineplot(x=np.arange(1,len(val_loss_list)+1), y=val_loss_list, label='Test', color='darkorange', ax=axes[1])\n",
    "    axes[0].legend(fontsize=15)\n",
    "    axes[1].legend(fontsize=15)\n",
    "    plt.show()"
   ]
  },
  {
   "cell_type": "markdown",
   "metadata": {},
   "source": [
    "# Pesos das classes"
   ]
  },
  {
   "cell_type": "code",
   "execution_count": 17,
   "metadata": {},
   "outputs": [],
   "source": [
    "def get_weights(pandas_file):\n",
    "    weights = pandas_file.sum().max() / pandas_file.sum()\n",
    "    return torch.tensor(weights).clone().detach()"
   ]
  },
  {
   "cell_type": "markdown",
   "metadata": {},
   "source": [
    "Global manual seed"
   ]
  },
  {
   "cell_type": "code",
   "execution_count": 18,
   "metadata": {},
   "outputs": [
    {
     "data": {
      "text/plain": [
       "<torch._C.Generator at 0x1ab1ddb0cb0>"
      ]
     },
     "execution_count": 18,
     "metadata": {},
     "output_type": "execute_result"
    }
   ],
   "source": [
    "torch.manual_seed(99)"
   ]
  },
  {
   "cell_type": "markdown",
   "metadata": {},
   "source": [
    "# Tamanhos 256px e 384px"
   ]
  },
  {
   "cell_type": "markdown",
   "metadata": {},
   "source": [
    "Vamos pegar 2 dataset: um utilizará imagens de 256px e um idêntico de tamanho 384px."
   ]
  },
  {
   "cell_type": "code",
   "execution_count": 13,
   "metadata": {},
   "outputs": [
    {
     "name": "stdout",
     "output_type": "stream",
     "text": [
      "Tamanho do dataset:  1821\n",
      "Size in MB: 1432\n"
     ]
    }
   ],
   "source": [
    "size = 256\n",
    "transform = transforms.Compose([transforms.RandomHorizontalFlip(), # Giramos aleatoriamente a imagem na horizontal\n",
    "                                transforms.RandomVerticalFlip(), # Giramos aleatoriamente a imagem na vertical\n",
    "                                transforms.RandomPerspective(distortion_scale=0.3), # Mudamos aleatoriamente a perspectiva da imagem\n",
    "                                transforms.RandomRotation(degrees=10), # Aplicamos uma rotação aleatória de no máximo 10 graus\n",
    "                                transforms.Resize(size=(size,size)), # Redimensionamos o tamanho da imagem\n",
    "                                transforms.ToTensor(), # Transformamos em um Tensor\n",
    "                                transforms.Normalize(mean=[0.485, 0.456, 0.406], # Normalizamos nos dados da Image Net\n",
    "                                                     std=[0.229, 0.224, 0.225])])\n",
    "\n",
    "plant_dataset = ImageFolderToMemory(csv_file='train.csv', root_dir='./images/', size=size, transform=transform, save_to_disk=True)\n",
    "print(f\"Tamanho do dataset: {len(plant_dataset)} images\")\n",
    "print(f\"Size in MB: {plant_dataset.tensor_data.element_size() * plant_dataset.tensor_data.nelement() / 1000000:.0f}\")"
   ]
  },
  {
   "cell_type": "code",
   "execution_count": 13,
   "metadata": {},
   "outputs": [
    {
     "name": "stdout",
     "output_type": "stream",
     "text": [
      "Tamanho do dataset:  1821\n",
      "Size in MB: 3222\n"
     ]
    }
   ],
   "source": [
    "size = 384\n",
    "transform = transforms.Compose([transforms.RandomApply([transforms.RandomOrder([transforms.RandomHorizontalFlip(), \n",
    "                                                                                transforms.RandomVerticalFlip(), \n",
    "                                                                                transforms.RandomPerspective(distortion_scale=0.3),\n",
    "                                                                                transforms.RandomRotation(degrees=10),\n",
    "                                                                                transforms.Resize(size=(size,size))])\n",
    "                                                       ], p=0.5),\n",
    "                                transforms.ToTensor(),\n",
    "                                transforms.Normalize(mean=[0.485, 0.456, 0.406],\n",
    "                                                     std=[0.229, 0.224, 0.225])])\n",
    "\n",
    "plant_dataset = ImageFolderToMemory(csv_file='train.csv', root_dir='./images/', size=size, transform=transform, save_to_disk=True)\n",
    "print(\"Tamanho do dataset: \", len(plant_dataset))\n",
    "print(\"Size in MB: {:.0f}\".format(plant_dataset.tensor_data.element_size() * plant_dataset.tensor_data.nelement() / 1000000))"
   ]
  },
  {
   "cell_type": "markdown",
   "metadata": {},
   "source": [
    "# Treino"
   ]
  },
  {
   "cell_type": "markdown",
   "metadata": {},
   "source": [
    "Foi escolhido um modelo `ResneSt50` mais utilizado para detecção de objetos do que classificação, mas resolvi utilizá-lo neste caso."
   ]
  },
  {
   "cell_type": "markdown",
   "metadata": {},
   "source": [
    "### ResneSt50 - Split 0.7 - Batch Size 16 - 256px"
   ]
  },
  {
   "cell_type": "code",
   "execution_count": 13,
   "metadata": {},
   "outputs": [],
   "source": [
    "torch.hub.list('zhanghang1989/ResNeSt', force_reload=True)"
   ]
  },
  {
   "cell_type": "code",
   "execution_count": 16,
   "metadata": {},
   "outputs": [
    {
     "name": "stderr",
     "output_type": "stream",
     "text": [
      "Using cache found in C:\\Users\\chris/.cache\\torch\\hub\\zhanghang1989_ResNeSt_master\n"
     ]
    },
    {
     "name": "stdout",
     "output_type": "stream",
     "text": [
      "Beginning Epoch 1...\n",
      "Epoch 1/30 : Train Loss 105.39076 | Val Loss 40.91933 | Accuracy: 0.5119\n",
      "Epoch 2/30 : Train Loss 79.25264 | Val Loss 23.01952 | Accuracy: 0.8391\n",
      "Epoch 3/30 : Train Loss 36.77729 | Val Loss 9.76588 | Accuracy: 0.9068\n",
      "Epoch 4/30 : Train Loss 18.89023 | Val Loss 6.59742 | Accuracy: 0.9250\n",
      "Epoch 5/30 : Train Loss 14.76112 | Val Loss 6.55144 | Accuracy: 0.9324\n",
      "Epoch 6/30 : Train Loss 11.31441 | Val Loss 9.47335 | Accuracy: 0.9013\n",
      "Epoch 7/30 : Train Loss 11.30360 | Val Loss 9.36112 | Accuracy: 0.9177\n",
      "Epoch 8/30 : Train Loss 11.17071 | Val Loss 5.91429 | Accuracy: 0.9525\n",
      "Epoch 9/30 : Train Loss 7.79260 | Val Loss 6.64167 | Accuracy: 0.9397\n",
      "Epoch 10/30 : Train Loss 6.07491 | Val Loss 7.41115 | Accuracy: 0.9397\n",
      "Epoch 11/30 : Train Loss 5.32744 | Val Loss 5.82362 | Accuracy: 0.9342\n",
      "Epoch 12/30 : Train Loss 5.14897 | Val Loss 7.05036 | Accuracy: 0.9305\n",
      "Epoch 13/30 : Train Loss 3.24332 | Val Loss 11.50423 | Accuracy: 0.9196\n",
      "Epoch 14/30 : Train Loss 4.13477 | Val Loss 6.92001 | Accuracy: 0.9488\n",
      "Epoch 15/30 : Train Loss 2.24137 | Val Loss 7.26776 | Accuracy: 0.9525\n",
      "Epoch 16/30 : Train Loss 2.10589 | Val Loss 8.14056 | Accuracy: 0.9324\n",
      "Epoch 17/30 : Train Loss 1.74239 | Val Loss 9.49394 | Accuracy: 0.9470\n",
      "Epoch 18/30 : Train Loss 0.85261 | Val Loss 7.34691 | Accuracy: 0.9580\n",
      "Epoch 19/30 : Train Loss 1.15906 | Val Loss 7.54319 | Accuracy: 0.9470\n",
      "Epoch 20/30 : Train Loss 1.76562 | Val Loss 7.10148 | Accuracy: 0.9506\n",
      "Epoch 21/30 : Train Loss 1.21510 | Val Loss 5.37406 | Accuracy: 0.9543\n",
      "Epoch 22/30 : Train Loss 0.89646 | Val Loss 5.36266 | Accuracy: 0.9634\n",
      "Epoch 23/30 : Train Loss 0.42472 | Val Loss 6.43398 | Accuracy: 0.9525\n",
      "Epoch 24/30 : Train Loss 0.45392 | Val Loss 5.82733 | Accuracy: 0.9561\n",
      "Epoch 25/30 : Train Loss 0.23155 | Val Loss 5.73080 | Accuracy: 0.9634\n",
      "Epoch 26/30 : Train Loss 0.40454 | Val Loss 6.07467 | Accuracy: 0.9671\n",
      "Epoch 27/30 : Train Loss 0.29144 | Val Loss 5.69813 | Accuracy: 0.9598\n",
      "Epoch 28/30 : Train Loss 0.28365 | Val Loss 6.19880 | Accuracy: 0.9634\n",
      "Epoch 29/30 : Train Loss 0.48639 | Val Loss 4.90095 | Accuracy: 0.9598\n",
      "Epoch 30/30 : Train Loss 0.26336 | Val Loss 5.38798 | Accuracy: 0.9580\n",
      "----- FINALIZADO -----\n",
      "Melhor época: 29\n"
     ]
    },
    {
     "data": {
      "image/png": "[encoded data removed]",
      "text/plain": [
       "<Figure size 1368x504 with 2 Axes>"
      ]
     },
     "metadata": {},
     "output_type": "display_data"
    }
   ],
   "source": [
    "resnest50 = torch.hub.load('zhanghang1989/ResNeSt', 'resnest50', pretrained=True)\n",
    "in_features = resnest50.fc.in_features\n",
    "resnest50.fc = nn.Linear(in_features, 4)\n",
    "\n",
    "# -----------------------------------------------------------\n",
    "train_dataloader, valid_dataloader = get_loaders(train_split=0.7, batch_size=16)\n",
    "optimizer = torch.optim.Adam(resnest50.parameters(), lr=0.001)\n",
    "lr_scheduler = torch.optim.lr_scheduler.OneCycleLR(optimizer=optimizer, # Utilizamos um LR Scheduler com a política de One Cycle\n",
    "                                                    max_lr=0.0001,\n",
    "                                                    epochs=30,\n",
    "                                                    steps_per_epoch=len(train_dataloader),\n",
    "                                                    pct_start=0.3, \n",
    "                                                    anneal_strategy='cos')\n",
    "\n",
    "weight = torch.tensor([1.3, 1.6, 1.3, 1.8])\n",
    "loss_fn = nn.CrossEntropyLoss(weight=weight)\n",
    "\n",
    "\n",
    "training_loop(n_epochs=30, \n",
    "              model=resnest50, \n",
    "              optimizer=optimizer,\n",
    "              loss_fn=loss_fn, \n",
    "              device='cuda:0', \n",
    "              lr_scheduler=lr_scheduler,\n",
    "              print_every=1,\n",
    "              eval_loss_limit_size=10, \n",
    "              verbose=1)"
   ]
  },
  {
   "cell_type": "code",
   "execution_count": 17,
   "metadata": {},
   "outputs": [
    {
     "data": {
      "image/png": "[encoded data removed]",
      "text/plain": [
       "<Figure size 576x576 with 2 Axes>"
      ]
     },
     "metadata": {},
     "output_type": "display_data"
    },
    {
     "name": "stdout",
     "output_type": "stream",
     "text": [
      "Model Accuracy: 95.978%\n"
     ]
    }
   ],
   "source": [
    "preds, actual = get_predictions(resnest50, 'cuda:0')\n",
    "get_confusion_matrix(preds, actual)"
   ]
  },
  {
   "cell_type": "markdown",
   "metadata": {},
   "source": [
    "Como pode ser observado, a ausência de exemplos da classe `multiple_diseases` não ajudaram o modelo a identificar os casos corretamente. E, como visto anteriormente na análise exploratória, este realmente era um exemplo difícil de se diferenciar dos outros visualmente."
   ]
  },
  {
   "cell_type": "code",
   "execution_count": 18,
   "metadata": {},
   "outputs": [],
   "source": [
    "torch.save(resnest50.state_dict(), './models/resnest50_256px_b16_aug_weighted_lrscheduled_96.pt')"
   ]
  },
  {
   "cell_type": "markdown",
   "metadata": {},
   "source": [
    "### RETREINO: ResneSt50 - Split 0.7 - Batch Size 16 - 384px"
   ]
  },
  {
   "cell_type": "markdown",
   "metadata": {},
   "source": [
    "Utilizamos agora a mesma rede e treinamos novamente com imagens um pouco maiores."
   ]
  },
  {
   "cell_type": "code",
   "execution_count": 14,
   "metadata": {},
   "outputs": [
    {
     "name": "stderr",
     "output_type": "stream",
     "text": [
      "Using cache found in C:\\Users\\chris/.cache\\torch\\hub\\zhanghang1989_ResNeSt_master\n"
     ]
    },
    {
     "name": "stdout",
     "output_type": "stream",
     "text": [
      "Beginning Epoch 1...\n",
      "Epoch 1/5 : Train Loss 1.56950 | Val Loss 1.14393 | Accuracy: 0.9854\n",
      "Epoch 2/5 : Train Loss 1.29687 | Val Loss 1.12917 | Accuracy: 0.9890\n",
      "Epoch 3/5 : Train Loss 1.60441 | Val Loss 0.92707 | Accuracy: 0.9927\n",
      "Epoch 4/5 : Train Loss 2.10285 | Val Loss 1.23315 | Accuracy: 0.9854\n",
      "Epoch 5/5 : Train Loss 1.88433 | Val Loss 1.29450 | Accuracy: 0.9890\n",
      "----- FINALIZADO -----\n",
      "Melhor época: 3\n"
     ]
    },
    {
     "data": {
      "image/png": "[encoded data removed]",
      "text/plain": [
       "<Figure size 1368x504 with 2 Axes>"
      ]
     },
     "metadata": {},
     "output_type": "display_data"
    }
   ],
   "source": [
    "resnest50 = torch.hub.load('zhanghang1989/ResNeSt', 'resnest50', pretrained=True)\n",
    "in_features = resnest50.fc.in_features\n",
    "resnest50.fc = nn.Linear(in_features, 4)\n",
    "\n",
    "resnest50.load_state_dict(torch.load('./models/resnest50RET5_382px_b16_aug_weighted_lrscheduled_99_4.pt'))\n",
    "\n",
    "# -----------------------------------------------------------\n",
    "N_EPOCHS = 5\n",
    "train_dataloader, valid_dataloader = get_loaders(train_split=0.7, batch_size=16)\n",
    "optimizer = torch.optim.Adam(resnest50.parameters(), lr=1e-4)\n",
    "lr_scheduler = torch.optim.lr_scheduler.OneCycleLR(optimizer=optimizer, \n",
    "                                                    max_lr=1e-4,\n",
    "                                                    epochs=N_EPOCHS,\n",
    "                                                    steps_per_epoch=len(train_dataloader),\n",
    "                                                    pct_start=0.3, \n",
    "                                                    anneal_strategy='cos')\n",
    "\n",
    "weight = torch.tensor([1.4, 1.0, 1.4, 1.8])\n",
    "loss_fn = nn.CrossEntropyLoss(weight=weight)\n",
    "\n",
    "training_loop(n_epochs=N_EPOCHS,\n",
    "              model=resnest50, \n",
    "              optimizer=optimizer,\n",
    "              loss_fn=loss_fn, \n",
    "              device='cuda:0', \n",
    "              lr_scheduler=lr_scheduler,\n",
    "              print_every=1,\n",
    "              eval_loss_limit_size=10, \n",
    "              verbose=1)"
   ]
  },
  {
   "cell_type": "code",
   "execution_count": 15,
   "metadata": {},
   "outputs": [
    {
     "data": {
      "image/png": "[encoded data removed]",
      "text/plain": [
       "<Figure size 576x576 with 2 Axes>"
      ]
     },
     "metadata": {},
     "output_type": "display_data"
    },
    {
     "name": "stdout",
     "output_type": "stream",
     "text": [
      "Model Accuracy: 99.086%\n"
     ]
    }
   ],
   "source": [
    "preds, actual = get_predictions(resnest50, 'cuda:0')\n",
    "get_confusion_matrix(preds, actual)"
   ]
  },
  {
   "cell_type": "markdown",
   "metadata": {},
   "source": [
    "Aumentar o tamanho das imagens impactou em uma qualidade significativamente maior no poder de classificação do modelo. A maioria das folhas pertencente à classe `multiple_diseases` foi corretamente classificada."
   ]
  },
  {
   "cell_type": "code",
   "execution_count": 21,
   "metadata": {},
   "outputs": [],
   "source": [
    "torch.save(resnest50.state_dict(), './models/resnest50RET5_384px_b16_aug_weighted_lrscheduled_99_4.pt')"
   ]
  },
  {
   "cell_type": "markdown",
   "metadata": {},
   "source": [
    "---\n",
    "---"
   ]
  },
  {
   "cell_type": "markdown",
   "metadata": {},
   "source": [
    "# Test Dataset"
   ]
  },
  {
   "cell_type": "markdown",
   "metadata": {},
   "source": [
    "Vamos agora testar nosso modelo e sumeter o resultado para o Kaggle."
   ]
  },
  {
   "cell_type": "code",
   "execution_count": 16,
   "metadata": {},
   "outputs": [],
   "source": [
    "size = 384 # Temos de utilizar o mesmo tamanho no qual o modelo foi treinado\n",
    "test_dataset = ImageFolderToMemoryTest(csv_file='test.csv', root_dir='./images/', size=size, transform=transforms.Normalize(mean=[0.485, 0.456, 0.406], \n",
    "                                                                                                                           std=[0.229, 0.224, 0.225]), save_to_disk=True)\n",
    "test_dataloader = get_test_loader(test_dataset=test_dataset, batch_size=16)"
   ]
  },
  {
   "cell_type": "markdown",
   "metadata": {},
   "source": [
    "Carregamos então o modelo `ResneSt50` treinado anteriormente."
   ]
  },
  {
   "cell_type": "code",
   "execution_count": 16,
   "metadata": {},
   "outputs": [
    {
     "name": "stderr",
     "output_type": "stream",
     "text": [
      "Using cache found in C:\\Users\\chris/.cache\\torch\\hub\\zhanghang1989_ResNeSt_master\n"
     ]
    },
    {
     "data": {
      "text/plain": [
       "<All keys matched successfully>"
      ]
     },
     "execution_count": 16,
     "metadata": {},
     "output_type": "execute_result"
    }
   ],
   "source": [
    "resnest50 = torch.hub.load('zhanghang1989/ResNeSt', 'resnest50', pretrained=True)\n",
    "in_features = resnest50.fc.in_features\n",
    "resnest50.fc = nn.Linear(in_features, 4)\n",
    "\n",
    "resnest50.load_state_dict(torch.load('./models/resnest50RET5_382px_b16_aug_weighted_lrscheduled_99_4.pt'))"
   ]
  },
  {
   "cell_type": "code",
   "execution_count": 18,
   "metadata": {},
   "outputs": [],
   "source": [
    "def get_predictions_array(model, device, test_dataloader):\n",
    "    model.to(device)\n",
    "    predictions_tensor = torch.tensor([]).cuda()\n",
    "    model.eval()\n",
    "    with torch.no_grad():\n",
    "        for features in test_dataloader:\n",
    "            features = features.to(device)\n",
    "            out = model(features)\n",
    "            predictions_tensor = torch.cat((predictions_tensor,out), dim=0)\n",
    "\n",
    "    return F.softmax(predictions_tensor, dim=1).cpu().detach().numpy()"
   ]
  },
  {
   "cell_type": "code",
   "execution_count": 19,
   "metadata": {},
   "outputs": [
    {
     "data": {
      "text/plain": [
       "array([[4.7979428e-04, 5.3721652e-03, 9.9405694e-01, 9.1025118e-05],\n",
       "       [8.4860454e-05, 2.5737972e-03, 9.9721897e-01, 1.2232545e-04],\n",
       "       [5.4101633e-07, 5.0088856e-06, 1.1635623e-06, 9.9999332e-01],\n",
       "       ...,\n",
       "       [1.9107654e-06, 4.3642463e-04, 9.9955970e-01, 1.9430704e-06],\n",
       "       [9.9996507e-01, 2.0059735e-05, 6.6345269e-06, 8.2346505e-06],\n",
       "       [1.6483342e-05, 2.6426671e-04, 2.8739152e-05, 9.9969053e-01]],\n",
       "      dtype=float32)"
      ]
     },
     "execution_count": 19,
     "metadata": {},
     "output_type": "execute_result"
    }
   ],
   "source": [
    "predictions_array = get_predictions_array(model=resnest50, device='cuda:0', test_dataloader=test_dataloader)\n",
    "predictions_array"
   ]
  },
  {
   "cell_type": "markdown",
   "metadata": {},
   "source": [
    "Esse é o nosso array que representa as probabilidades de cada classe individualmente. Vamos transformá-lo em um `DataFrame` com os nomes corretos para que possamos submeter ao Kaggle."
   ]
  },
  {
   "cell_type": "code",
   "execution_count": 20,
   "metadata": {},
   "outputs": [
    {
     "data": {
      "text/html": [
       "<div>\n",
       "<style scoped>\n",
       "    .dataframe tbody tr th:only-of-type {\n",
       "        vertical-align: middle;\n",
       "    }\n",
       "\n",
       "    .dataframe tbody tr th {\n",
       "        vertical-align: top;\n",
       "    }\n",
       "\n",
       "    .dataframe thead th {\n",
       "        text-align: right;\n",
       "    }\n",
       "</style>\n",
       "<table border=\"1\" class=\"dataframe\">\n",
       "  <thead>\n",
       "    <tr style=\"text-align: right;\">\n",
       "      <th></th>\n",
       "      <th>image_id</th>\n",
       "      <th>healthy</th>\n",
       "      <th>multiple_diseases</th>\n",
       "      <th>rust</th>\n",
       "      <th>scab</th>\n",
       "    </tr>\n",
       "  </thead>\n",
       "  <tbody>\n",
       "    <tr>\n",
       "      <th>0</th>\n",
       "      <td>Test_0</td>\n",
       "      <td>4.797943e-04</td>\n",
       "      <td>5.372165e-03</td>\n",
       "      <td>0.994057</td>\n",
       "      <td>9.102512e-05</td>\n",
       "    </tr>\n",
       "    <tr>\n",
       "      <th>1</th>\n",
       "      <td>Test_1</td>\n",
       "      <td>8.486045e-05</td>\n",
       "      <td>2.573797e-03</td>\n",
       "      <td>0.997219</td>\n",
       "      <td>1.223255e-04</td>\n",
       "    </tr>\n",
       "    <tr>\n",
       "      <th>2</th>\n",
       "      <td>Test_2</td>\n",
       "      <td>5.410163e-07</td>\n",
       "      <td>5.008886e-06</td>\n",
       "      <td>0.000001</td>\n",
       "      <td>9.999933e-01</td>\n",
       "    </tr>\n",
       "    <tr>\n",
       "      <th>3</th>\n",
       "      <td>Test_3</td>\n",
       "      <td>9.999981e-01</td>\n",
       "      <td>3.953303e-08</td>\n",
       "      <td>0.000002</td>\n",
       "      <td>2.766101e-08</td>\n",
       "    </tr>\n",
       "    <tr>\n",
       "      <th>4</th>\n",
       "      <td>Test_4</td>\n",
       "      <td>1.654771e-04</td>\n",
       "      <td>2.886700e-03</td>\n",
       "      <td>0.996685</td>\n",
       "      <td>2.632210e-04</td>\n",
       "    </tr>\n",
       "    <tr>\n",
       "      <th>...</th>\n",
       "      <td>...</td>\n",
       "      <td>...</td>\n",
       "      <td>...</td>\n",
       "      <td>...</td>\n",
       "      <td>...</td>\n",
       "    </tr>\n",
       "    <tr>\n",
       "      <th>1816</th>\n",
       "      <td>Test_1816</td>\n",
       "      <td>1.111078e-05</td>\n",
       "      <td>7.649749e-04</td>\n",
       "      <td>0.999188</td>\n",
       "      <td>3.635764e-05</td>\n",
       "    </tr>\n",
       "    <tr>\n",
       "      <th>1817</th>\n",
       "      <td>Test_1817</td>\n",
       "      <td>9.405266e-05</td>\n",
       "      <td>9.308129e-01</td>\n",
       "      <td>0.001808</td>\n",
       "      <td>6.728540e-02</td>\n",
       "    </tr>\n",
       "    <tr>\n",
       "      <th>1818</th>\n",
       "      <td>Test_1818</td>\n",
       "      <td>1.910765e-06</td>\n",
       "      <td>4.364246e-04</td>\n",
       "      <td>0.999560</td>\n",
       "      <td>1.943070e-06</td>\n",
       "    </tr>\n",
       "    <tr>\n",
       "      <th>1819</th>\n",
       "      <td>Test_1819</td>\n",
       "      <td>9.999651e-01</td>\n",
       "      <td>2.005974e-05</td>\n",
       "      <td>0.000007</td>\n",
       "      <td>8.234651e-06</td>\n",
       "    </tr>\n",
       "    <tr>\n",
       "      <th>1820</th>\n",
       "      <td>Test_1820</td>\n",
       "      <td>1.648334e-05</td>\n",
       "      <td>2.642667e-04</td>\n",
       "      <td>0.000029</td>\n",
       "      <td>9.996905e-01</td>\n",
       "    </tr>\n",
       "  </tbody>\n",
       "</table>\n",
       "<p>1821 rows × 5 columns</p>\n",
       "</div>"
      ],
      "text/plain": [
       "       image_id       healthy  multiple_diseases      rust          scab\n",
       "0        Test_0  4.797943e-04       5.372165e-03  0.994057  9.102512e-05\n",
       "1        Test_1  8.486045e-05       2.573797e-03  0.997219  1.223255e-04\n",
       "2        Test_2  5.410163e-07       5.008886e-06  0.000001  9.999933e-01\n",
       "3        Test_3  9.999981e-01       3.953303e-08  0.000002  2.766101e-08\n",
       "4        Test_4  1.654771e-04       2.886700e-03  0.996685  2.632210e-04\n",
       "...         ...           ...                ...       ...           ...\n",
       "1816  Test_1816  1.111078e-05       7.649749e-04  0.999188  3.635764e-05\n",
       "1817  Test_1817  9.405266e-05       9.308129e-01  0.001808  6.728540e-02\n",
       "1818  Test_1818  1.910765e-06       4.364246e-04  0.999560  1.943070e-06\n",
       "1819  Test_1819  9.999651e-01       2.005974e-05  0.000007  8.234651e-06\n",
       "1820  Test_1820  1.648334e-05       2.642667e-04  0.000029  9.996905e-01\n",
       "\n",
       "[1821 rows x 5 columns]"
      ]
     },
     "execution_count": 20,
     "metadata": {},
     "output_type": "execute_result"
    }
   ],
   "source": [
    "output_df = pd.DataFrame({'image_id': test_csv.index, 'healthy': predictions_array[:,0], 'multiple_diseases': predictions_array[:,1], 'rust': predictions_array[:,2], 'scab': predictions_array[:,3] })\n",
    "output_df"
   ]
  },
  {
   "cell_type": "markdown",
   "metadata": {},
   "source": [
    "Salvamos agora a submissão em um arquivo .csv"
   ]
  },
  {
   "cell_type": "code",
   "execution_count": 24,
   "metadata": {},
   "outputs": [],
   "source": [
    "output_df.to_csv('./submissions/19_resnest50_384px_b16_aug_weighted_lrscheduled.csv', index=False)"
   ]
  },
  {
   "cell_type": "markdown",
   "metadata": {},
   "source": [
    "## Concluído"
   ]
  },
  {
   "cell_type": "markdown",
   "metadata": {},
   "source": [
    "Concluímos então as etapas de treinamento, validação e submissão ao desafio."
   ]
  }
 ],
 "metadata": {
  "kernelspec": {
   "display_name": "Python 3",
   "language": "python",
   "name": "python3"
  },
  "language_info": {
   "codemirror_mode": {
    "name": "ipython",
    "version": 3
   },
   "file_extension": ".py",
   "mimetype": "text/x-python",
   "name": "python",
   "nbconvert_exporter": "python",
   "pygments_lexer": "ipython3",
   "version": "3.8.5"
  }
 },
 "nbformat": 4,
 "nbformat_minor": 4
}
